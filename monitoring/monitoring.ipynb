{
 "cells": [
  {
   "cell_type": "markdown",
   "id": "9efcbf1b-c06c-4173-8059-55b6192b6ed8",
   "metadata": {},
   "source": [
    "# Enhancing Network Insights: SDN Monitoring on FABRIC\n",
    "\n",
    "This notebook was cloned from Fabric's knowledge base on [MfLib](https://github.com/fabric-testbed/jupyter-examples/tree/main/fabric_examples/mflib).\n",
    "The configuration of prometheus was modified based on the requirements to push the metrics to all the nodes in the network. The used prometheus configuration is attached."
   ]
  },
  {
   "cell_type": "code",
   "execution_count": 1,
   "id": "0fcf25e7-2dfc-48e3-9aff-30cef98a1c66",
   "metadata": {},
   "outputs": [],
   "source": [
    "import os\n",
    "import json\n",
    "import traceback\n",
    "import mflib\n",
    "from mflib.mflib import MFLib\n",
    "from fabrictestbed_extensions.fablib.fablib import FablibManager as fablib_manager\n"
   ]
  },
  {
   "cell_type": "code",
   "execution_count": null,
   "id": "f3538af7-180b-43cd-8d9a-076067ba1270",
   "metadata": {},
   "outputs": [],
   "source": [
    "try:\n",
    "    fablib = fablib_manager()\n",
    "    fablib.show_config()\n",
    "except Exception as e:\n",
    "    print(f\"Exception: {e}\")"
   ]
  },
  {
   "cell_type": "code",
   "execution_count": null,
   "id": "13230de5-3b44-4cde-ba7b-c7daa02373b2",
   "metadata": {},
   "outputs": [],
   "source": [
    "%%time\n",
    "\n",
    "\n",
    "slice_name = \"MyMonitoredSlice\"\n",
    "\n",
    "[site1,site2,site3] = fablib.get_random_sites(count=3, avoid=[\"DALL\",\"GPN\",\"LBNL\",\"RENC\",\"SALT\",\"TACC\",\"UKY\",\"WASH\",\"NCSA\",\"LOSA\",\"GATECH\",\"INDI\",\"MAX\", \"MASS\",\"NEWY\",\"SRI\",\"UCSD\"])\n",
    "\n",
    "\n",
    "node1_name = 'Node1'\n",
    "node2_name = 'Node2'\n",
    "node3_name = 'Node3'\n",
    "\n",
    "network1_name='net1'\n",
    "network2_name='net2'\n",
    "network3_name='net3'\n",
    "\n",
    "node1_nic_name = 'nic1'\n",
    "node2_nic_name = 'nic2'\n",
    "node3_nic_name = 'nic3'\n",
    "\n",
    "print(f\"Setting up slice {slice_name}\")\n",
    "print(f\"Using sites {site1}, {site2}, {site3}\")"
   ]
  },
  {
   "cell_type": "code",
   "execution_count": null,
   "id": "0ea8a244-2337-434e-9fdf-f286f2a6e51b",
   "metadata": {},
   "outputs": [],
   "source": [
    "try:\n",
    "    #Create Slice\n",
    "    slice = fablib.new_slice(name=slice_name)\n",
    "    \n",
    "    # Node1\n",
    "    node1 = slice.add_node(name=node1_name, site=site1, image='docker_rocky_8')\n",
    "    iface1 = node1.add_component(model='NIC_Basic', name=node1_nic_name).get_interfaces()[0]\n",
    "    \n",
    "    # Node2\n",
    "    node2 = slice.add_node(name=node2_name, site=site2, image='docker_rocky_8')\n",
    "    iface2  = node2.add_component(model='NIC_Basic', name=node2_nic_name).get_interfaces()[0]\n",
    "\n",
    "    # Node3\n",
    "    node3 = slice.add_node(name=node3_name, site=site3, image='docker_rocky_8')\n",
    "    iface3  = node3.add_component(model='NIC_Basic', name=node3_nic_name).get_interfaces()[0]\n",
    "\n",
    "    # Networks\n",
    "    net1 = slice.add_l3network(name=network1_name, interfaces=[iface1], type='IPv4')\n",
    "    net2 = slice.add_l3network(name=network2_name, interfaces=[iface2], type='IPv4')\n",
    "    net3 = slice.add_l3network(name=network3_name, interfaces=[iface3], type='IPv4')\n",
    "\n",
    "    print(f\"Slice Topology Done.\")\n",
    "except Exception as e:\n",
    "    print(f\"Exception: {e}\")"
   ]
  },
  {
   "cell_type": "code",
   "execution_count": null,
   "id": "0d5b906a-500f-4644-b2cc-c3b26256516b",
   "metadata": {},
   "outputs": [],
   "source": [
    "# Add measurement node to topology using static method.\n",
    "MFLib.addMeasNode(slice, disk=100, image='docker_ubuntu_20')\n",
    "print(\"Done\")"
   ]
  },
  {
   "cell_type": "code",
   "execution_count": null,
   "id": "7e870f1b-c14b-4c27-b813-4687370a213c",
   "metadata": {},
   "outputs": [],
   "source": [
    "%%time\n",
    "try:\n",
    "    # Submit Slice Request\n",
    "    print(f'Submitting the new slice, \"{slice_name}\"...')\n",
    "    slice.submit(wait_interval=60)\n",
    "    print(f'{slice_name} creation done.')\n",
    "\n",
    "except Exception as e:\n",
    "    print(f\"Slice Fail: {e}\")\n",
    "    traceback.print_exc()"
   ]
  },
  {
   "cell_type": "code",
   "execution_count": null,
   "id": "9e708e8d-00fd-43b5-8b06-1734a409a41c",
   "metadata": {},
   "outputs": [],
   "source": [
    "try:\n",
    "    network1 = slice.get_network(name=network1_name)\n",
    "    network1_available_ips = network1.get_available_ips()\n",
    "    network1.show()\n",
    "    \n",
    "    network2 = slice.get_network(name=network2_name)\n",
    "    network2_available_ips =  network2.get_available_ips()\n",
    "    network2.show()\n",
    "    \n",
    "    network3 = slice.get_network(name=network3_name)\n",
    "    network3_available_ips =  network3.get_available_ips()\n",
    "    network3.show()\n",
    "    \n",
    "    \n",
    "except Exception as e:\n",
    "    print(f\"Exception: {e}\")"
   ]
  },
  {
   "cell_type": "code",
   "execution_count": null,
   "id": "7202e965-d15a-4c60-9b47-1b50c51aa185",
   "metadata": {},
   "outputs": [],
   "source": [
    "try:\n",
    "    node1 = slice.get_node(name=node1_name)        \n",
    "    node1_iface = node1.get_interface(network_name=network1_name)  \n",
    "    node1_addr = network1_available_ips.pop(0)\n",
    "    node1_iface.ip_addr_add(addr=node1_addr, subnet=network1.get_subnet())\n",
    "    \n",
    "    node1.ip_route_add(subnet=network2.get_subnet(), gateway=network1.get_gateway())\n",
    "    node1.ip_route_add(subnet=network3.get_subnet(), gateway=network1.get_gateway())\n",
    "    \n",
    "    stdout, stderr = node1.execute(f'ip addr show {node1_iface.get_os_interface()}')\n",
    "    stdout, stderr = node1.execute(f'ip route list')\n",
    "\n",
    "except Exception as e:\n",
    "    print(f\"Exception: {e}\")"
   ]
  },
  {
   "cell_type": "code",
   "execution_count": null,
   "id": "03b7dccd-cc99-410e-aba9-32d7ae34b658",
   "metadata": {},
   "outputs": [],
   "source": [
    "try:\n",
    "    node2 = slice.get_node(name=node2_name)        \n",
    "    node2_iface = node2.get_interface(network_name=network2_name) \n",
    "    node2_addr = network2_available_ips.pop(0)\n",
    "    node2_iface.ip_addr_add(addr=node2_addr, subnet=network2.get_subnet())\n",
    "    \n",
    "    node2.ip_route_add(subnet=network1.get_subnet(), gateway=network2.get_gateway())\n",
    "    node2.ip_route_add(subnet=network3.get_subnet(), gateway=network2.get_gateway())\n",
    "    \n",
    "    stdout, stderr = node2.execute(f'ip addr show {node2_iface.get_os_interface()}')    \n",
    "    stdout, stderr = node2.execute(f'ip route list')\n",
    "\n",
    "except Exception as e:\n",
    "    print(f\"Exception: {e}\")"
   ]
  },
  {
   "cell_type": "code",
   "execution_count": null,
   "id": "57870ca7-f1b8-4e44-b83d-a523e9b0ae9a",
   "metadata": {},
   "outputs": [],
   "source": [
    "try:\n",
    "    node3 = slice.get_node(name=node3_name)        \n",
    "    node3_iface = node3.get_interface(network_name=network3_name) \n",
    "    node3_addr = network3_available_ips.pop(0)\n",
    "    node3_iface.ip_addr_add(addr=node3_addr, subnet=network3.get_subnet())\n",
    "    \n",
    "    node3.ip_route_add(subnet=network1.get_subnet(), gateway=network3.get_gateway())\n",
    "    node3.ip_route_add(subnet=network2.get_subnet(), gateway=network3.get_gateway())\n",
    "    \n",
    "    stdout, stderr = node3.execute(f'ip addr show {node3_iface.get_os_interface()}')    \n",
    "    stdout, stderr = node3.execute(f'ip route list')\n",
    "\n",
    "except Exception as e:\n",
    "    print(f\"Exception: {e}\")"
   ]
  },
  {
   "cell_type": "code",
   "execution_count": null,
   "id": "67ae5a43-aca8-400a-921f-e88ad45ad1d2",
   "metadata": {},
   "outputs": [],
   "source": [
    "mf = MFLib(slice_name)\n",
    "instrumetize_results = mf.instrumentize( [\"prometheus\"] )"
   ]
  },
  {
   "cell_type": "code",
   "execution_count": null,
   "id": "71b3d320-1c5c-4cc7-aa18-71a29fdb2a3d",
   "metadata": {},
   "outputs": [],
   "source": [
    "print(mf.grafana_tunnel)\n",
    "\n",
    "print(f\"Browse to https://localhost:{mf.grafana_tunnel_local_port}/grafana/dashboards?query=%2A\")"
   ]
  },
  {
   "cell_type": "code",
   "execution_count": null,
   "id": "2638fb32-b262-479f-97a8-5ebae4f1cf27",
   "metadata": {},
   "outputs": [],
   "source": [
    "data = {}\n",
    "data[\"get\"] = [\"admin_password\"]\n",
    "info_results = mf.info(\"grafana_manager\", data)\n",
    "print(info_results)"
   ]
  },
  {
   "cell_type": "code",
   "execution_count": null,
   "id": "3dee6223-69e5-45a5-ab1b-9cb8031fda46",
   "metadata": {},
   "outputs": [],
   "source": [
    "data1 = {}\n",
    "data1[\"get\"] = [\"ht_user\", \"ht_password\"]\n",
    "info_results1 = mf.info(\"prometheus\", data1)\n",
    "print(info_results1)"
   ]
  },
  {
   "cell_type": "code",
   "execution_count": 6,
   "id": "592123dc-119c-4f00-b781-17055e6eafc1",
   "metadata": {},
   "outputs": [
    {
     "data": {
      "text/plain": [
       "'\\nscrape_configs:\\n  - job_name: \\'federate\\'\\n    scrape_interval: 15s\\n\\n    honor_labels: true\\n    metrics_path: \\'/federate\\'\\n\\n    params:\\n      \\'match[]\\':\\n        - \\'{job=\"prometheus\"}\\'\\n        - \\'{__name__=~\"job:.*\"}\\'\\n\\n    static_configs:\\n      - targets:\\n        - \\'source-prometheus-1:9090\\' # Target should be monitoring node\\n'"
      ]
     },
     "execution_count": 6,
     "metadata": {},
     "output_type": "execute_result"
    }
   ],
   "source": [
    "\"\"\"\n",
    "scrape_configs:\n",
    "  - job_name: 'federate'\n",
    "    scrape_interval: 15s\n",
    "\n",
    "    honor_labels: true\n",
    "    metrics_path: '/federate'\n",
    "\n",
    "    params:\n",
    "      'match[]':\n",
    "        - '{job=\"prometheus\"}'\n",
    "        - '{__name__=~\"job:.*\"}'\n",
    "\n",
    "    static_configs:\n",
    "      - targets:\n",
    "        - 'source-prometheus-1:9090' # Target should be monitoring node\n",
    "\"\"\"\n",
    "# Install prometheus on all the nodes\n",
    "# Update the prometheus configuration so that all the nodes receive the metrics\n",
    "# This configuration should be updated on nodes(not monitoring node)"
   ]
  },
  {
   "cell_type": "code",
   "execution_count": null,
   "id": "49843bab-275e-4613-83b3-a885d67f6124",
   "metadata": {},
   "outputs": [],
   "source": []
  }
 ],
 "metadata": {
  "kernelspec": {
   "display_name": "Python 3 (ipykernel)",
   "language": "python",
   "name": "python3"
  },
  "language_info": {
   "codemirror_mode": {
    "name": "ipython",
    "version": 3
   },
   "file_extension": ".py",
   "mimetype": "text/x-python",
   "name": "python",
   "nbconvert_exporter": "python",
   "pygments_lexer": "ipython3",
   "version": "3.10.6"
  }
 },
 "nbformat": 4,
 "nbformat_minor": 5
}
